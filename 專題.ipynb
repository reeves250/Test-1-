{
  "nbformat": 4,
  "nbformat_minor": 0,
  "metadata": {
    "colab": {
      "provenance": [],
      "include_colab_link": true
    },
    "kernelspec": {
      "name": "python3",
      "display_name": "Python 3"
    },
    "language_info": {
      "name": "python"
    }
  },
  "cells": [
    {
      "cell_type": "markdown",
      "metadata": {
        "id": "view-in-github",
        "colab_type": "text"
      },
      "source": [
        "<a href=\"https://colab.research.google.com/github/reeves250/Test-1-/blob/main/%E5%B0%88%E9%A1%8C.ipynb\" target=\"_parent\"><img src=\"https://colab.research.google.com/assets/colab-badge.svg\" alt=\"Open In Colab\"/></a>"
      ]
    },
    {
      "cell_type": "code",
      "execution_count": null,
      "metadata": {
        "id": "VHLQpOdoV8tk"
      },
      "outputs": [],
      "source": [
        "import pandas as pd\n",
        "df_student = pd.read_csv(\"students_adaptability_level_online_education.csv\")\n",
        "df_student.head()"
      ]
    },
    {
      "cell_type": "code",
      "source": [
        "import matplotlib.pyplot as plt\n",
        "import seaborn as sns\n",
        "i = 1\n",
        "plt.figure(figsize = (15,25))\n",
        "for feature in df_student:\n",
        "    plt.subplot(6,3,i)\n",
        "    sns.countplot(x = feature ,  data = df_student)\n",
        "    i +=1"
      ],
      "metadata": {
        "id": "R8g5l7JeqHKR"
      },
      "execution_count": null,
      "outputs": []
    },
    {
      "cell_type": "code",
      "source": [
        "df_student.drop(\"Education Level\", axis=1, inplace=True)\n",
        "df_student = df_student.drop(df_student[df_student['Age'] == '1-5'].index)\n",
        "df_student = df_student.drop(df_student[df_student['Age'] == '6-10'].index)\n",
        "df_student[\"Adaptivity Level\"] = df_student[\"Adaptivity Level\"].replace({\"Moderate\": 0, \"Low\": -1, \"High\": 1})\n",
        "df_student[\"Financial Condition\"] = df_student[\"Financial Condition\"].replace({\"Poor\": 0, \"Mid\": 1, \"Rich\": 2})"
      ],
      "metadata": {
        "id": "aEa6n5Lcumzl"
      },
      "execution_count": null,
      "outputs": []
    },
    {
      "cell_type": "code",
      "source": [
        "colors = ['red', 'violet', 'navy']\n",
        "i = 1\n",
        "plt.figure(figsize = (15,25))\n",
        "for feature in df_student:\n",
        "    plt.subplot(6,3,i)\n",
        "    sns.countplot(x = feature , hue='Adaptivity Level', data = df_student, palette = colors)\n",
        "    i +=1"
      ],
      "metadata": {
        "id": "JlxAZw7rqofa"
      },
      "execution_count": null,
      "outputs": []
    },
    {
      "cell_type": "code",
      "source": [
        "colors = ['red', 'violet', 'navy']\n",
        "i = 1\n",
        "plt.figure(figsize = (15,25))\n",
        "for feature in df_student:\n",
        "    plt.subplot(6,3,i)\n",
        "    sns.countplot(x = feature , hue='Financial Condition', data = df_student, palette = colors)\n",
        "    i +=1"
      ],
      "metadata": {
        "id": "pg0O5Grh20R4"
      },
      "execution_count": null,
      "outputs": []
    },
    {
      "cell_type": "code",
      "source": [
        "from sklearn.preprocessing import LabelEncoder\n",
        "label_encoder = LabelEncoder()\n",
        "\n",
        "df_student['IT Student'] = label_encoder.fit_transform(df_student['IT Student'])\n",
        "df_student['Location'] = label_encoder.fit_transform(df_student['Location'])\n",
        "df_student['Self Lms'] = label_encoder.fit_transform(df_student['Self Lms'])\n",
        "df_student['Internet Type'] = label_encoder.fit_transform(df_student['Internet Type']) #Wifi as 1, Mobile Data as 0\n",
        "df_student['Age'] = label_encoder.fit_transform(df_student['Age'])\n",
        "df_student['Network Type'] = label_encoder.fit_transform(df_student['Network Type'])\n",
        "df_student['Class Duration'] = label_encoder.fit_transform(df_student['Class Duration'])\n",
        "\n",
        "df_student[\"Financial Condition\"] = df_student[\"Financial Condition\"].replace({\"Poor\": 0, \"Mid\": 1, \"Rich\": 2})\n",
        "df_student[\"Gender\"] = df_student[\"Gender\"].replace({\"Boy\": 1, \"Girl\": 2})\n",
        "df_student[\"Institution Type\"] = df_student[\"Institution Type\"].replace({\"Non Government\": 0, \"Government\": 1})\n",
        "df_student[\"Load-shedding\"] = df_student[\"Load-shedding\"].replace({\"Low\": 1, \"High\": 2})\n",
        "df_student[\"Internet Type\"] = df_student[\"Load-shedding\"].replace({\"Low\": 1, \"High\": 2})\n",
        "df_student[\"Device\"] = df_student[\"Device\"].replace({\"Tab\": 1, \"Mobile\": 2, \"Computer\": 3})\n",
        "\n",
        "df_student.head()"
      ],
      "metadata": {
        "id": "dSst9DMdWsPF"
      },
      "execution_count": null,
      "outputs": []
    },
    {
      "cell_type": "code",
      "source": [
        "dataplot = sns.heatmap(df_student.corr(), cmap=\"YlGnBu\", annot=True)\n",
        "figsize=(200,200)\n",
        "sns.set(font_scale=0.58)"
      ],
      "metadata": {
        "id": "oDZBo3Vc61Me"
      },
      "execution_count": null,
      "outputs": []
    },
    {
      "cell_type": "code",
      "source": [
        "from sklearn.model_selection import train_test_split\n",
        "from sklearn.metrics import accuracy_score\n",
        "\n",
        "X = df_student.drop(columns=\"Adaptivity Level\")\n",
        "y = df_student[\"Adaptivity Level\"]\n",
        "\n",
        "X_train, X_test, y_train, y_test = train_test_split(X, y, test_size=0.25, random_state=0)"
      ],
      "metadata": {
        "id": "reB1a05AvHdM"
      },
      "execution_count": null,
      "outputs": []
    },
    {
      "cell_type": "code",
      "source": [
        "from sklearn.linear_model import LogisticRegression\n",
        "\n",
        "classifier1 = LogisticRegression()\n",
        "classifier1.fit(X_train, y_train)\n",
        "\n",
        "y_pred1 = classifier1.predict(X_test)\n",
        "score1 = accuracy_score(y_test, y_pred1)"
      ],
      "metadata": {
        "id": "4FkBNCrJ-WAh"
      },
      "execution_count": null,
      "outputs": []
    },
    {
      "cell_type": "code",
      "source": [
        "from sklearn.neighbors import KNeighborsClassifier\n",
        "\n",
        "classifier2 = KNeighborsClassifier(n_neighbors=3)\n",
        "classifier2.fit(X_train, y_train)\n",
        "\n",
        "y_pred2 = classifier2.predict(X_test)\n",
        "score2 = accuracy_score(y_test, y_pred2)"
      ],
      "metadata": {
        "id": "tucPN1xa-gZN"
      },
      "execution_count": null,
      "outputs": []
    },
    {
      "cell_type": "code",
      "source": [
        "from sklearn.ensemble import RandomForestClassifier\n",
        "\n",
        "classifier3 = RandomForestClassifier()\n",
        "classifier3.fit(X_train, y_train)\n",
        "\n",
        "y_pred3 = classifier3.predict(X_test)\n",
        "score3 = accuracy_score(y_test, y_pred3)"
      ],
      "metadata": {
        "id": "s1d-bJ5d-mYY"
      },
      "execution_count": null,
      "outputs": []
    },
    {
      "cell_type": "code",
      "source": [
        "scores = [score1, score2, score3]\n",
        "classes = ['LogisticRegression', 'KNeighborsClassifier', 'RandomForest']\n",
        "color2 = ['c', 'g', 'y']"
      ],
      "metadata": {
        "id": "PCyLGYYP-rRa"
      },
      "execution_count": null,
      "outputs": []
    },
    {
      "cell_type": "code",
      "source": [
        "fig, ax = plt.subplots()\n",
        "bars = ax.bar(classes, scores, color = color2, width = 0.5)\n",
        "\n",
        "for bar in bars:\n",
        "    height = bar.get_height()\n",
        "    label = '{:.3f}'.format(height)\n",
        "    ax.text(bar.get_x() + bar.get_width() / 2, height, label,\n",
        "            ha='center', va='bottom')\n",
        "ax.set_xlabel('Classifiers')\n",
        "ax.set_ylabel('Classifiers Accuracy Score')\n",
        "#s110029004@smail.nchu.edu.tw"
      ],
      "metadata": {
        "id": "73AuYsqpYKr0",
        "colab": {
          "base_uri": "https://localhost:8080/",
          "height": 461
        },
        "outputId": "823ec071-33d4-425b-e1ea-3a28df7e7f9c"
      },
      "execution_count": null,
      "outputs": [
        {
          "output_type": "execute_result",
          "data": {
            "text/plain": [
              "Text(0, 0.5, 'Classifiers Accuracy Score')"
            ]
          },
          "metadata": {},
          "execution_count": 61
        },
        {
          "output_type": "display_data",
          "data": {
            "text/plain": [
              "<Figure size 640x480 with 1 Axes>"
            ],
            "image/png": "[encoded data removed]"
          },
          "metadata": {}
        }
      ]
    },
    {
      "cell_type": "code",
      "source": [
        "from sklearn.metrics import confusion_matrix, ConfusionMatrixDisplay\n",
        "from sklearn.metrics import accuracy_score, classification_report"
      ],
      "metadata": {
        "id": "dWpxC2DXutW1"
      },
      "execution_count": null,
      "outputs": []
    },
    {
      "cell_type": "code",
      "source": [
        "model=RandomForestClassifier()\n",
        "model.fit(X_train, y_train)\n",
        "y_pred = model.predict(X_test)\n",
        "print(classification_report(y_test,y_pred, zero_division=1))"
      ],
      "metadata": {
        "colab": {
          "base_uri": "https://localhost:8080/"
        },
        "id": "BcAotVgsvjYy",
        "outputId": "baf04c48-0205-4dd7-dce1-27ef4cf2a617"
      },
      "execution_count": null,
      "outputs": [
        {
          "output_type": "stream",
          "name": "stdout",
          "text": [
            "              precision    recall  f1-score   support\n",
            "\n",
            "          -1       0.81      0.86      0.83       104\n",
            "           0       0.86      0.85      0.85       149\n",
            "           1       0.83      0.62      0.71        16\n",
            "\n",
            "    accuracy                           0.84       269\n",
            "   macro avg       0.83      0.78      0.80       269\n",
            "weighted avg       0.84      0.84      0.84       269\n",
            "\n"
          ]
        }
      ]
    },
    {
      "cell_type": "code",
      "source": [
        "cm = confusion_matrix(model.predict(X_test),y_test)\n",
        "disp = ConfusionMatrixDisplay(cm, display_labels=[\"High\",\"Low\",\"Moderate\"])\n",
        "disp.plot()\n",
        "plt.title(\"Confusion Matrix\")\n",
        "sns.heatmap(cm, annot=True, cmap=\"coolwarm\", fmt=\"d\")\n",
        "plt.show()"
      ],
      "metadata": {
        "colab": {
          "base_uri": "https://localhost:8080/",
          "height": 412
        },
        "id": "9GtCkc8Huw_c",
        "outputId": "9793fba8-5d16-4b27-e963-47bbf128571f"
      },
      "execution_count": null,
      "outputs": [
        {
          "output_type": "display_data",
          "data": {
            "text/plain": [
              "<Figure size 640x480 with 3 Axes>"
            ],
            "image/png": "[encoded data removed]"
          },
          "metadata": {}
        }
      ]
    },
    {
      "cell_type": "code",
      "source": [
        "feature_importances=model.feature_importances_\n",
        "feature_importances_df=pd.DataFrame({'features':list(X_train), 'feature_importances':feature_importances})\n",
        "feature_importances_df=pd.DataFrame({'features':list(X_train), 'feature_importances':feature_importances})\n",
        "feature_importances_df.sort_values('feature_importances',ascending=False)"
      ],
      "metadata": {
        "id": "6wnIgy1awelO",
        "outputId": "ade60418-3150-41da-ce0d-b19e783d2fb5",
        "colab": {
          "base_uri": "https://localhost:8080/",
          "height": 426
        }
      },
      "execution_count": null,
      "outputs": [
        {
          "output_type": "execute_result",
          "data": {
            "text/plain": [
              "               features  feature_importances\n",
              "9        Class Duration             0.191824\n",
              "6   Financial Condition             0.142972\n",
              "1                   Age             0.140327\n",
              "0                Gender             0.084904\n",
              "8          Network Type             0.071126\n",
              "11               Device             0.069030\n",
              "4              Location             0.066167\n",
              "2      Institution Type             0.063783\n",
              "3            IT Student             0.061264\n",
              "10             Self Lms             0.058827\n",
              "7         Internet Type             0.026136\n",
              "5         Load-shedding             0.023642"
            ],
            "text/html": [
              "\n",
              "  <div id=\"df-ed731669-05f3-4ba6-b610-8bd5d3bf8404\">\n",
              "    <div class=\"colab-df-container\">\n",
              "      <div>\n",
              "<style scoped>\n",
              "    .dataframe tbody tr th:only-of-type {\n",
              "        vertical-align: middle;\n",
              "    }\n",
              "\n",
              "    .dataframe tbody tr th {\n",
              "        vertical-align: top;\n",
              "    }\n",
              "\n",
              "    .dataframe thead th {\n",
              "        text-align: right;\n",
              "    }\n",
              "</style>\n",
              "<table border=\"1\" class=\"dataframe\">\n",
              "  <thead>\n",
              "    <tr style=\"text-align: right;\">\n",
              "      <th></th>\n",
              "      <th>features</th>\n",
              "      <th>feature_importances</th>\n",
              "    </tr>\n",
              "  </thead>\n",
              "  <tbody>\n",
              "    <tr>\n",
              "      <th>9</th>\n",
              "      <td>Class Duration</td>\n",
              "      <td>0.191824</td>\n",
              "    </tr>\n",
              "    <tr>\n",
              "      <th>6</th>\n",
              "      <td>Financial Condition</td>\n",
              "      <td>0.142972</td>\n",
              "    </tr>\n",
              "    <tr>\n",
              "      <th>1</th>\n",
              "      <td>Age</td>\n",
              "      <td>0.140327</td>\n",
              "    </tr>\n",
              "    <tr>\n",
              "      <th>0</th>\n",
              "      <td>Gender</td>\n",
              "      <td>0.084904</td>\n",
              "    </tr>\n",
              "    <tr>\n",
              "      <th>8</th>\n",
              "      <td>Network Type</td>\n",
              "      <td>0.071126</td>\n",
              "    </tr>\n",
              "    <tr>\n",
              "      <th>11</th>\n",
              "      <td>Device</td>\n",
              "      <td>0.069030</td>\n",
              "    </tr>\n",
              "    <tr>\n",
              "      <th>4</th>\n",
              "      <td>Location</td>\n",
              "      <td>0.066167</td>\n",
              "    </tr>\n",
              "    <tr>\n",
              "      <th>2</th>\n",
              "      <td>Institution Type</td>\n",
              "      <td>0.063783</td>\n",
              "    </tr>\n",
              "    <tr>\n",
              "      <th>3</th>\n",
              "      <td>IT Student</td>\n",
              "      <td>0.061264</td>\n",
              "    </tr>\n",
              "    <tr>\n",
              "      <th>10</th>\n",
              "      <td>Self Lms</td>\n",
              "      <td>0.058827</td>\n",
              "    </tr>\n",
              "    <tr>\n",
              "      <th>7</th>\n",
              "      <td>Internet Type</td>\n",
              "      <td>0.026136</td>\n",
              "    </tr>\n",
              "    <tr>\n",
              "      <th>5</th>\n",
              "      <td>Load-shedding</td>\n",
              "      <td>0.023642</td>\n",
              "    </tr>\n",
              "  </tbody>\n",
              "</table>\n",
              "</div>\n",
              "      <button class=\"colab-df-convert\" onclick=\"convertToInteractive('df-ed731669-05f3-4ba6-b610-8bd5d3bf8404')\"\n",
              "              title=\"Convert this dataframe to an interactive table.\"\n",
              "              style=\"display:none;\">\n",
              "        \n",
              "  <svg xmlns=\"http://www.w3.org/2000/svg\" height=\"24px\"viewBox=\"0 0 24 24\"\n",
              "       width=\"24px\">\n",
              "    <path d=\"M0 0h24v24H0V0z\" fill=\"none\"/>\n",
              "    <path d=\"M18.56 5.44l.94 2.06.94-2.06 2.06-.94-2.06-.94-.94-2.06-.94 2.06-2.06.94zm-11 1L8.5 8.5l.94-2.06 2.06-.94-2.06-.94L8.5 2.5l-.94 2.06-2.06.94zm10 10l.94 2.06.94-2.06 2.06-.94-2.06-.94-.94-2.06-.94 2.06-2.06.94z\"/><path d=\"M17.41 7.96l-1.37-1.37c-.4-.4-.92-.59-1.43-.59-.52 0-1.04.2-1.43.59L10.3 9.45l-7.72 7.72c-.78.78-.78 2.05 0 2.83L4 21.41c.39.39.9.59 1.41.59.51 0 1.02-.2 1.41-.59l7.78-7.78 2.81-2.81c.8-.78.8-2.07 0-2.86zM5.41 20L4 18.59l7.72-7.72 1.47 1.35L5.41 20z\"/>\n",
              "  </svg>\n",
              "      </button>\n",
              "      \n",
              "  <style>\n",
              "    .colab-df-container {\n",
              "      display:flex;\n",
              "      flex-wrap:wrap;\n",
              "      gap: 12px;\n",
              "    }\n",
              "\n",
              "    .colab-df-convert {\n",
              "      background-color: #E8F0FE;\n",
              "      border: none;\n",
              "      border-radius: 50%;\n",
              "      cursor: pointer;\n",
              "      display: none;\n",
              "      fill: #1967D2;\n",
              "      height: 32px;\n",
              "      padding: 0 0 0 0;\n",
              "      width: 32px;\n",
              "    }\n",
              "\n",
              "    .colab-df-convert:hover {\n",
              "      background-color: #E2EBFA;\n",
              "      box-shadow: 0px 1px 2px rgba(60, 64, 67, 0.3), 0px 1px 3px 1px rgba(60, 64, 67, 0.15);\n",
              "      fill: #174EA6;\n",
              "    }\n",
              "\n",
              "    [theme=dark] .colab-df-convert {\n",
              "      background-color: #3B4455;\n",
              "      fill: #D2E3FC;\n",
              "    }\n",
              "\n",
              "    [theme=dark] .colab-df-convert:hover {\n",
              "      background-color: #434B5C;\n",
              "      box-shadow: 0px 1px 3px 1px rgba(0, 0, 0, 0.15);\n",
              "      filter: drop-shadow(0px 1px 2px rgba(0, 0, 0, 0.3));\n",
              "      fill: #FFFFFF;\n",
              "    }\n",
              "  </style>\n",
              "\n",
              "      <script>\n",
              "        const buttonEl =\n",
              "          document.querySelector('#df-ed731669-05f3-4ba6-b610-8bd5d3bf8404 button.colab-df-convert');\n",
              "        buttonEl.style.display =\n",
              "          google.colab.kernel.accessAllowed ? 'block' : 'none';\n",
              "\n",
              "        async function convertToInteractive(key) {\n",
              "          const element = document.querySelector('#df-ed731669-05f3-4ba6-b610-8bd5d3bf8404');\n",
              "          const dataTable =\n",
              "            await google.colab.kernel.invokeFunction('convertToInteractive',\n",
              "                                                     [key], {});\n",
              "          if (!dataTable) return;\n",
              "\n",
              "          const docLinkHtml = 'Like what you see? Visit the ' +\n",
              "            '<a target=\"_blank\" href=https://colab.research.google.com/notebooks/data_table.ipynb>data table notebook</a>'\n",
              "            + ' to learn more about interactive tables.';\n",
              "          element.innerHTML = '';\n",
              "          dataTable['output_type'] = 'display_data';\n",
              "          await google.colab.output.renderOutput(dataTable, element);\n",
              "          const docLink = document.createElement('div');\n",
              "          docLink.innerHTML = docLinkHtml;\n",
              "          element.appendChild(docLink);\n",
              "        }\n",
              "      </script>\n",
              "    </div>\n",
              "  </div>\n",
              "  "
            ]
          },
          "metadata": {},
          "execution_count": 68
        }
      ]
    }
  ]
}